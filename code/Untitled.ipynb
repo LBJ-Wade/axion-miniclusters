{
 "cells": [
  {
   "cell_type": "code",
   "execution_count": 1,
   "metadata": {},
   "outputs": [],
   "source": [
    "import AMC\n",
    "import numpy as np\n",
    "import perturbations as PB\n",
    "from tqdm import tqdm\n",
    "import mass_function\n"
   ]
  },
  {
   "cell_type": "code",
   "execution_count": 2,
   "metadata": {},
   "outputs": [],
   "source": [
    "import matplotlib.pyplot as plt"
   ]
  },
  {
   "cell_type": "code",
   "execution_count": 3,
   "metadata": {},
   "outputs": [],
   "source": [
    "in_maeV   = 20e-6        # axion mass in eV\n",
    "in_gg     = -0.7        \n",
    "\n",
    "AMC_MF = mass_function.PowerLawMassFunction(m_a = in_maeV, gamma = in_gg)"
   ]
  },
  {
   "cell_type": "code",
   "execution_count": 6,
   "metadata": {},
   "outputs": [],
   "source": [
    "minicluster = AMC.AMC(M = 1e-19, delta=20, profile=\"PL\")\n",
    "G_N = 4.320e-3"
   ]
  },
  {
   "cell_type": "code",
   "execution_count": 82,
   "metadata": {},
   "outputs": [
    {
     "name": "stdout",
     "output_type": "stream",
     "text": [
      "1.1031911247800166e-10\n"
     ]
    }
   ],
   "source": [
    "print(minicluster.R)"
   ]
  },
  {
   "cell_type": "code",
   "execution_count": 83,
   "metadata": {},
   "outputs": [],
   "source": [
    "M_AMC_list = np.geomspace(1e-19, 1e-5)\n",
    "R_AS_list = 1e-11*(M_AMC_list)**(-1/3)"
   ]
  },
  {
   "cell_type": "code",
   "execution_count": 93,
   "metadata": {},
   "outputs": [],
   "source": [
    "R_AMC_list = 0*M_AMC_list\n",
    "for i, M_i in enumerate(M_AMC_list):\n",
    "    minicluster = AMC.AMC(M = M_i, delta=10, profile=\"NFW\")\n",
    "    R_AMC_list[i] = minicluster.R"
   ]
  },
  {
   "cell_type": "code",
   "execution_count": 94,
   "metadata": {},
   "outputs": [
    {
     "data": {
      "image/png": "[encoded data removed]",
      "text/plain": [
       "<Figure size 432x288 with 1 Axes>"
      ]
     },
     "metadata": {},
     "output_type": "display_data"
    }
   ],
   "source": [
    "plt.figure()\n",
    "\n",
    "\n",
    "plt.loglog(M_AMC_list, R_AMC_list, label=r'$R_\\mathrm{AMC}$')\n",
    "plt.loglog(M_AMC_list, R_AS_list, label=r'$R_\\mathrm{AS}$')\n",
    "\n",
    "plt.xlabel(r'$M_\\mathrm{AMC}$ [$M_\\odot$]')\n",
    "plt.ylabel(r'$R$ [pc]')\n",
    "\n",
    "plt.legend()\n",
    "\n",
    "plt.savefig(\"../plots/AS_delta=10.pdf\")\n",
    "\n",
    "plt.show()"
   ]
  },
  {
   "cell_type": "code",
   "execution_count": 47,
   "metadata": {},
   "outputs": [
    {
     "name": "stdout",
     "output_type": "stream",
     "text": [
      "0.013879376156488911\n"
     ]
    }
   ],
   "source": [
    "print(np.sqrt(G_N*minicluster.M/minicluster.R))"
   ]
  },
  {
   "cell_type": "code",
   "execution_count": 4,
   "metadata": {},
   "outputs": [
    {
     "name": "stdout",
     "output_type": "stream",
     "text": [
      "16620.671866538938\n"
     ]
    }
   ],
   "source": [
    "print(minicluster.R*3.086e+13/np.sqrt(G_N*minicluster.M/minicluster.R)/(3e7))"
   ]
  },
  {
   "cell_type": "code",
   "execution_count": 5,
   "metadata": {},
   "outputs": [
    {
     "data": {
      "text/plain": [
       "1000000.0"
      ]
     },
     "execution_count": 5,
     "metadata": {},
     "output_type": "execute_result"
    }
   ],
   "source": [
    "1e10/1e4"
   ]
  },
  {
   "cell_type": "markdown",
   "metadata": {},
   "source": [
    "#### Calculating initial fractions passing cuts"
   ]
  },
  {
   "cell_type": "code",
   "execution_count": 8,
   "metadata": {},
   "outputs": [],
   "source": [
    "def r_AS(M_AMC):\n",
    "    m_22 = in_maeV/1e-22\n",
    "    return 1e3*(1.6/m_22)*(M_AMC/1e9)**(-1/3)"
   ]
  },
  {
   "cell_type": "code",
   "execution_count": 36,
   "metadata": {},
   "outputs": [
    {
     "name": "stderr",
     "output_type": "stream",
     "text": [
      "100%|██████████| 10000000/10000000 [01:52<00:00, 88663.69it/s]"
     ]
    },
    {
     "name": "stdout",
     "output_type": "stream",
     "text": [
      "[0. 0. 0. ... 0. 0. 0.]\n",
      "0.0146342\n"
     ]
    },
    {
     "name": "stderr",
     "output_type": "stream",
     "text": [
      "\n"
     ]
    }
   ],
   "source": [
    "N_samps = int(1e7)\n",
    "_, delta_list = PB.sample_AMCs_logflat(m_a = 2e-5, n_samples = N_samps) \n",
    "#p_target = AMC_MF.dPdlogM(M_list)\n",
    "logM_list = PB.inverse_transform_sampling(lambda x: AMC_MF.dPdlogM(np.exp(x)), [np.log(AMC_MF.mmin), np.log(AMC_MF.mmax)], nbins=10000, n_samples=N_samps)\n",
    "M_list = np.exp(logM_list)\n",
    "#w = p_target/np.sum(p_target)\n",
    "mask_AS = M_list*0.0\n",
    "for i in tqdm(range(N_samps)):\n",
    "    minicluster = AMC.AMC(M = M_list[i], delta=delta_list[i], profile=\"NFW\")\n",
    "    mask_AS[i] = r_AS(M_list[i]) < minicluster.R\n",
    "print(mask_AS)\n",
    "print(np.sum(mask_AS)/N_samps)"
   ]
  },
  {
   "cell_type": "code",
   "execution_count": null,
   "metadata": {},
   "outputs": [],
   "source": []
  }
 ],
 "metadata": {
  "kernelspec": {
   "display_name": "Python 3",
   "language": "python",
   "name": "python3"
  },
  "language_info": {
   "codemirror_mode": {
    "name": "ipython",
    "version": 3
   },
   "file_extension": ".py",
   "mimetype": "text/x-python",
   "name": "python",
   "nbconvert_exporter": "python",
   "pygments_lexer": "ipython3",
   "version": "3.6.4"
  }
 },
 "nbformat": 4,
 "nbformat_minor": 2
}
