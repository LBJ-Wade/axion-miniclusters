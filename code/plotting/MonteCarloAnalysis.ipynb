{
 "cells": [
  {
   "cell_type": "code",
   "execution_count": 2,
   "metadata": {},
   "outputs": [],
   "source": [
    "%matplotlib inline"
   ]
  },
  {
   "cell_type": "code",
   "execution_count": 3,
   "metadata": {},
   "outputs": [],
   "source": [
    "import numpy as np\n",
    "import matplotlib as mpl\n",
    "\n",
    "mpl.rcParams['font.size'] = 20.0\n",
    "\n",
    "from scipy.integrate import simps, cumtrapz\n",
    "from scipy.interpolate import interp1d\n",
    "from scipy.stats import iqr\n",
    "\n",
    "import matplotlib.pyplot as plt\n",
    "\n",
    "import sys\n",
    "sys.path.append('../')\n",
    "\n",
    "import perturbations as PB\n",
    "import dirs"
   ]
  },
  {
   "cell_type": "code",
   "execution_count": 4,
   "metadata": {},
   "outputs": [],
   "source": [
    "M_min = 3.3e-19\n",
    "M_max = 5.1e-5\n",
    "def dNdM(Mlist, gamma=1.7):\n",
    "    return ((1-gamma)*Mlist**(-gamma))/(M_max**(1-gamma)-M_min**(1-gamma))"
   ]
  },
  {
   "cell_type": "markdown",
   "metadata": {},
   "source": [
    "#### AMC properties\n",
    "\n",
    "Looking at histograms of $M_\\mathrm{MC}$, $R_\\mathrm{MC}$ and $\\rho_{\\mathrm{MC}}$..."
   ]
  },
  {
   "cell_type": "code",
   "execution_count": 14,
   "metadata": {},
   "outputs": [],
   "source": [
    "#Specify the radius you'd like to investigate (in pc)\n",
    "#Rstr = \"6.96\"\n",
    "Rstr = \"2.13\""
   ]
  },
  {
   "cell_type": "code",
   "execution_count": 15,
   "metadata": {},
   "outputs": [],
   "source": [
    "#Load properties from the Monte Carlo results file\n",
    "M_i, R_i, D_i, M_f, R_f, D_f, e, psi  = np.loadtxt(dirs.montecarlo_dir + \"AMC_logflat_a=\" + Rstr + \"_NFW_circ.txt\", unpack=True, delimiter=',')\n",
    "V_i = (4/3)*np.pi*R_i**3\n",
    "V_f = (4/3)*np.pi*R_f**3\n",
    "rho_i = M_i/V_i\n",
    "rho_f = M_f/V_f"
   ]
  },
  {
   "cell_type": "code",
   "execution_count": 16,
   "metadata": {},
   "outputs": [
    {
     "name": "stdout",
     "output_type": "stream",
     "text": [
      "Survival probability: 0.86884\n"
     ]
    },
    {
     "data": {
      "image/png": "[encoded data removed]",
      "text/plain": [
       "<Figure size 1440x360 with 3 Axes>"
      ]
     },
     "metadata": {},
     "output_type": "display_data"
    }
   ],
   "source": [
    "N_i = np.sum([M_i > 1e-21])\n",
    "N_f = np.sum([M_f > 1e-21])\n",
    "\n",
    "p_surv = N_f/N_i\n",
    "print(\"Survival probability:\", p_surv)\n",
    "a_plot = 0.7\n",
    "a_hist = 0.4\n",
    "\n",
    "fig, (ax1, ax2, ax3) = plt.subplots(1, 3, sharey=True, figsize=(20,5), gridspec_kw={'wspace': 0.03})\n",
    "fig.suptitle(r\"$r_\\mathrm{GC} = \" + Rstr + \"\\,\\mathrm{kpc}$, $p_\\mathrm{surv} = %.3f$\"%(p_surv,))\n",
    "\n",
    "\n",
    "# Plot one\n",
    "# M_bins = np.geomspace(1e-20, 1e-5, 50)\n",
    "# plt.figure(figsize=(7,5))\n",
    "counts, edges, patches = ax1.hist(M_i, bins=np.geomspace(1e-20, 1e-3, 50), alpha=a_hist)\n",
    "ax1.step(edges[1:], counts, color='C0', alpha=a_plot, label='Before Disruption')\n",
    "counts, edges, patches = ax1.hist(M_f, bins=np.geomspace(1e-20, 1e-3, 50), alpha=a_hist)\n",
    "ax1.step(edges[1:], counts, color='C1', alpha=a_plot, label='After Disruption')\n",
    "\n",
    "# ax1.hist(M_i, alpha = a_plot, range=np.geomspace(1e-19, 1e-5, 50), bins=M_bins, label='Before Disruption')\n",
    "# ax1.hist(M_f, alpha = a_plot, range=np.geomspace(1e-19, 1e-5, 50), bins=M_bins, label='After Disruption')\n",
    "\n",
    "ax1.set_yscale('log')\n",
    "ax1.set_xscale('log')\n",
    "ax1.set_xlabel(r\"$M_\\mathrm{AMC}$ $[M_\\odot]$\")\n",
    "ax1.set_ylabel(r\"$N_\\mathrm{AMC}$\")\n",
    "ax1.set_xlim(1e-19, 1e-3)\n",
    "\n",
    "ax1.legend(loc='upper left')\n",
    "\n",
    "# Plot two\n",
    "counts, edges, patches = ax2.hist(R_i, bins=np.geomspace(1e-9, 1e-1, 50), alpha=a_hist)\n",
    "ax2.step(edges[1:], counts, color='C0', alpha=a_plot)\n",
    "counts, edges, patches = ax2.hist(R_f, bins=np.geomspace(1e-9, 1e-1, 50), alpha=a_hist)\n",
    "ax2.step(edges[1:], counts, color='C1', alpha=a_plot)\n",
    "\n",
    "# ax2.hist(R_i, alpha = a_plot, bins=np.geomspace(1e-9, 1e-3, 50))\n",
    "# ax2.hist(R_f, alpha = a_plot, bins=np.geomspace(1e-9, 1e-3, 50))\n",
    "\n",
    "ax2.set_yscale('log')\n",
    "ax2.set_xscale('log')\n",
    "ax2.set_xlabel(r\"$R_\\mathrm{AMC}$ $[\\mathrm{pc}]$\")\n",
    "# ax2.set_xlim(1e-9, 1e-3)\n",
    "# plt.ylabel(\"$N_\\mathrm{AMC}$\")\n",
    "\n",
    "\n",
    "# Plot three\n",
    "counts, edges, patches = ax3.hist(rho_i, bins=np.geomspace(1e-2, 1e12, 50), alpha=a_hist)\n",
    "ax3.step(edges[1:], counts, color='C0', alpha=a_plot)\n",
    "counts, edges, patches = ax3.hist(rho_f, bins=np.geomspace(1e-2, 1e12, 50), alpha=a_hist)\n",
    "ax3.step(edges[1:], counts, color='C1', alpha=a_plot)\n",
    "\n",
    "# ax3.hist(rho_i, alpha = a_plot, bins=np.geomspace(1e4, 1e10, 50))\n",
    "# ax3.hist(rho_f, alpha = a_plot, bins=np.geomspace(1e4, 1e10, 50))\n",
    "\n",
    "ax3.set_yscale('log')\n",
    "ax3.set_xscale('log')\n",
    "ax3.set_xlabel(r\"$\\rho_\\mathrm{AMC}$ $[M_\\odot\\,\\mathrm{pc}^{-3}]$\")\n",
    "# ax3.set_xlim(1e4, 1e10)\n",
    "plt.show()\n",
    "\n",
    "#plt.savefig(\"../plots/Distributions_PL_r=\"+Rstr+\"kpc.pdf\", bbox_inches='tight')"
   ]
  },
  {
   "cell_type": "code",
   "execution_count": 17,
   "metadata": {},
   "outputs": [],
   "source": [
    "#### Plot the distributions P(X), for the mass, radius and density"
   ]
  },
  {
   "cell_type": "code",
   "execution_count": null,
   "metadata": {},
   "outputs": [
    {
     "name": "stdout",
     "output_type": "stream",
     "text": [
      "Survival probability: 0.86884\n",
      "1.0455032892876344\n"
     ]
    }
   ],
   "source": [
    "M_f_true, P_M_f_true = np.loadtxt(dirs.dists_dir + \"distribution_mass_\" + Rstr + \"_NFW_circ.txt\", unpack=True, delimiter=',')\n",
    "R_f_true, P_R_f_true = np.loadtxt(dirs.dists_dir + \"distribution_radius_\" + Rstr + \"_NFW_circ.txt\", unpack=True, delimiter=',', usecols=(0,1))\n",
    "R_i_true, P_R_i_true = np.loadtxt(dirs.dists_dir + \"distribution_radius_NFW_circ_unperturbed.txt\", unpack=True, delimiter=',', usecols=(0,1))\n",
    "\n",
    "Mlist = np.geomspace(3.28433664535169e-19, 5.113402976492e-05, 100)\n",
    "\n",
    "V_i = (4/3)*np.pi*R_i**3\n",
    "V_f = (4/3)*np.pi*R_f**3\n",
    "rho_i = M_i/V_i\n",
    "rho_f = M_f/V_f\n",
    "\n",
    "\n",
    "N_i = np.sum([M_i > 1e-21])\n",
    "N_f = np.sum([M_f > 1e-21])\n",
    "\n",
    "p_surv = N_f/N_i\n",
    "print(\"Survival probability:\", p_surv)\n",
    "a_plot = 0.7\n",
    "a_hist = 0.4\n",
    "xpad=8\n",
    "\n",
    "fig, (ax1, ax2, ax3) = plt.subplots(1, 3, sharey=False, figsize=(20,5), gridspec_kw={'wspace': 0.25})\n",
    "# fig.suptitle(r\"$r_\\mathrm{GC} = \" + Rstr + \"\\,\\mathrm{kpc}$, $p_\\mathrm{surv} = %.3f$\"%(p_surv,))\n",
    "\n",
    "\n",
    "# Plot one\n",
    "# M_bins = np.geomspace(1e-20, 1e-5, 50)\n",
    "# plt.figure(figsize=(7,5))\n",
    "# print(M_i.min(), M_f.min())\n",
    "# Mbins = np.geomspace(M_i.min(), M_i.max(), 50)\n",
    "# print(M_i.min(), M_i.max())\n",
    "# logwidth = np.diff(np.log10(Mbins))[0]\n",
    "# Mbins = np.append(Mbins, Mbins[-1]*(10**logwidth))\n",
    "# Mbins = np.insert(Mbins, 0, Mbins[0]/(10**logwidth))\n",
    "# Mbins = np.insert(Mbins, 0, Mbins[0]/(10**logwidth))\n",
    "# Mbins = np.insert(Mbins, 0, Mbins[0]/(10**logwidth))\n",
    "\n",
    "cbefore = 'k'\n",
    "cafter = 'C8'\n",
    "\n",
    "\n",
    "# counts, edges, patches = ax1.hist(M_i, bins=Mbins, alpha=a_hist, label='Before Disruption', density=True)\n",
    "# ax1.step(edges[1:], counts, color='C0', alpha=a_plot)\n",
    "# counts, edges, patches = ax1.hist(M_f, bins=Mbins, alpha=a_hist, label='After Disruption', density=True)\n",
    "# ax1.step(edges[1:], counts, color='C1', alpha=a_plot)\n",
    "#/(M_f_true[P_M_f_true>0.0]*P_M_f_true[P_M_f_true>0.0]).max()\n",
    "ax1.plot(M_f_true[P_M_f_true>1e-30], M_f_true[P_M_f_true>1e-30]*P_M_f_true[P_M_f_true>1e-30], color=cafter)\n",
    "ax1.plot(Mlist, Mlist*dNdM(Mlist), ls='--', color=cbefore)\n",
    "print(np.trapz(dNdM(Mlist), x=Mlist))\n",
    "\n",
    "\n",
    "# ax1.hist(M_i, alpha = a_plot, range=np.geomspace(1e-19, 1e-5, 50), bins=M_bins, label='Before Disruption')\n",
    "# ax1.hist(M_f, alpha = a_plot, range=np.geomspace(1e-19, 1e-5, 50), bins=M_bins, label='After Disruption')\n",
    "\n",
    "\n",
    "ax1.text(1e-19, 1e-11, r\"$r_\\mathrm{GC} = \" + Rstr + \"\\,\\mathrm{kpc}$, $p_\\mathrm{surv} = %.3f$\"%(p_surv,))\n",
    "ax1.xaxis.set_tick_params(pad=xpad)\n",
    "ax1.set_yscale('log')\n",
    "ax1.set_xscale('log')\n",
    "ax1.set_xlabel(r\"$M_\\mathrm{AMC}$ $[M_\\odot]$\")\n",
    "# ax1.set_ylabel(r\"$N_\\mathrm{AMC}$\")\n",
    "ax1.set_ylabel(r\"$M_\\mathrm{AMC} \\times P(M_\\mathrm{AMC})$\")\n",
    "ax1.set_xlim(1e-20, 1e-4)\n",
    "ax1.set_ylim(1e-12, 10)\n",
    "\n",
    "\n",
    "\n",
    "\n",
    "# Plot two\n",
    "# counts, edges, patches = ax2.hist(R_i, bins=np.geomspace(1e-8, 1e0, 50), alpha=a_hist, density=True)\n",
    "# ax2.step(edges[1:], counts, color='C0', alpha=a_plot)\n",
    "# counts, edges, patches = ax2.hist(R_f, bins=np.geomspace(1e-8, 1e0, 50), alpha=a_hist, density=True)\n",
    "# ax2.step(edges[1:], counts, color='C1', alpha=a_plot)\n",
    "# ax2.plot(R_f_true[P_R_f_true>0.0], P_R_f_true[P_R_f_true>0.0], label='After Disruption', ls='--')\n",
    "ax2.plot(R_f_true[P_R_f_true>1e-30], R_f_true[P_R_f_true>1e-30]*P_R_f_true[P_R_f_true>1e-30], color=cafter)\n",
    "ax2.plot(R_i_true[P_R_i_true>1e-30], R_i_true[P_R_i_true>1e-30]*P_R_i_true[P_R_i_true>1e-30], ls='--', color=cbefore)\n",
    "\n",
    "# ax2.hist(R_i, alpha = a_plot, bins=np.geomspace(1e-9, 1e-3, 50))\n",
    "# ax2.hist(R_f, alpha = a_plot, bins=np.geomspace(1e-9, 1e-3, 50))\n",
    "\n",
    "ax2.xaxis.set_tick_params(pad=xpad)\n",
    "ax2.set_yscale('log')\n",
    "ax2.set_xscale('log')\n",
    "ax2.set_xlabel(r\"$R_\\mathrm{AMC}$ $[\\mathrm{pc}]$\")\n",
    "ax2.set_ylabel(r\"$R_\\mathrm{AMC} \\times P(R_\\mathrm{AMC})$\")\n",
    "ax2.plot([0], [0], ls='--', label='Unperturbed AMCs', color=cbefore)\n",
    "ax2.plot([0], [0], label='Perturbed AMCs (NFW)', color=cafter)\n",
    "ax2.legend(loc='lower left')\n",
    "ax2.set_ylim(1e-15, 10)\n",
    "\n",
    "# ax2.set_xlim(1e-9, 1e-3)\n",
    "# plt.ylabel(\"$N_\\mathrm{AMC}$\")\n",
    "\n",
    "# Plot three\n",
    "# counts, edges, patches = ax3.hist(rho_i, bins=np.geomspace(1e-4, 1e6, 50), alpha=a_hist, density=True)\n",
    "# ax3.step(edges[1:], counts, color='C0', alpha=a_plot)\n",
    "# counts, edges, patches = ax3.hist(rho_f, bins=np.geomspace(1e-4, 1e6, 50), alpha=a_hist, density=True)\n",
    "# ax3.step(edges[1:], counts, color='C1', alpha=a_plot)\n",
    "\n",
    "counts, edges = np.histogram(rho_f, bins=np.geomspace(1e-4, 1e6, 50), density=True)\n",
    "b_c = edges[:-1] + np.diff(edges)/2\n",
    "ax3.plot(b_c[counts>0], b_c[counts>0]*counts[counts>0], color=cafter)\n",
    "counts, edges = np.histogram(rho_i, bins=np.geomspace(1e-4, 1e6, 50), density=True)\n",
    "b_c = edges[:-1] + np.diff(edges)/2\n",
    "ax3.plot(b_c[counts>0], b_c[counts>0]*counts[counts>0], color=cbefore, ls='--')\n",
    "\n",
    "# ax3.hist(rho_i, alpha = a_plot, bins=np.geomspace(1e4, 1e10, 50))\n",
    "# ax3.hist(rho_f, alpha = a_plot, bins=np.geomspace(1e4, 1e10, 50))\n",
    "\n",
    "ax3.xaxis.set_tick_params(pad=xpad)\n",
    "ax3.yaxis.set_tick_params(pad=6)\n",
    "ax3.set_ylabel(r\"$\\bar{\\rho} \\times P(\\bar{\\rho} )$\")\n",
    "ax3.set_yscale('log')\n",
    "ax3.set_xscale('log')\n",
    "ax3.set_xlabel(r\"$\\bar{\\rho}$ $[M_\\odot\\,\\mathrm{pc}^{-3}]$\")\n",
    "ax3.set_ylim(1e-5, 0.9)\n",
    "\n",
    "plt.savefig(\"../../plots/Distributions_NFW_r=\"+Rstr+\"kpc.pdf\", bbox_inches='tight')"
   ]
  },
  {
   "cell_type": "code",
   "execution_count": null,
   "metadata": {},
   "outputs": [],
   "source": []
  }
 ],
 "metadata": {
  "kernelspec": {
   "display_name": "Python 3",
   "language": "python",
   "name": "python3"
  },
  "language_info": {
   "codemirror_mode": {
    "name": "ipython",
    "version": 3
   },
   "file_extension": ".py",
   "mimetype": "text/x-python",
   "name": "python",
   "nbconvert_exporter": "python",
   "pygments_lexer": "ipython3",
   "version": "3.6.4"
  }
 },
 "nbformat": 4,
 "nbformat_minor": 4
}
