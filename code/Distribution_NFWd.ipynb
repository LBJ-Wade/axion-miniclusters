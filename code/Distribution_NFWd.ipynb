{
 "cells": [
  {
   "cell_type": "markdown",
   "metadata": {},
   "source": [
    "# Distribution function for the NFW profiles"
   ]
  },
  {
   "cell_type": "code",
   "execution_count": 91,
   "metadata": {},
   "outputs": [],
   "source": [
    "%matplotlib inline"
   ]
  },
  {
   "cell_type": "code",
   "execution_count": 92,
   "metadata": {},
   "outputs": [],
   "source": [
    "import numpy as np\n",
    "import matplotlib.pyplot as plt\n",
    "from scipy import interpolate\n",
    "from scipy.integrate import quad, cumtrapz\n",
    "from tqdm import tqdm\n",
    "\n",
    "import matplotlib as mpl\n",
    "mpl.rcParams['font.size'] = 18.0"
   ]
  },
  {
   "cell_type": "code",
   "execution_count": 93,
   "metadata": {},
   "outputs": [],
   "source": [
    "G_N = 4.302e-3"
   ]
  },
  {
   "cell_type": "code",
   "execution_count": 94,
   "metadata": {},
   "outputs": [],
   "source": [
    "c = 10000\n",
    "\n",
    "def f_NFW(x):\n",
    "    return np.log(1+x) - x/(1+x)"
   ]
  },
  {
   "cell_type": "markdown",
   "metadata": {},
   "source": [
    "$$ M_\\mathrm{enc} = 4 \\pi \\rho_s r_s{}^3 f_\\mathrm{NFW}(r/r_s)$$"
   ]
  },
  {
   "cell_type": "markdown",
   "metadata": {},
   "source": [
    "#### New parameters\n",
    "\n",
    "$$\\alpha^2 = 0.084$$\n",
    "$$\\beta = 14.2$$"
   ]
  },
  {
   "cell_type": "code",
   "execution_count": 95,
   "metadata": {},
   "outputs": [
    {
     "name": "stdout",
     "output_type": "stream",
     "text": [
      "0.00591549295774648\n"
     ]
    }
   ],
   "source": [
    "print(0.084/14.2)"
   ]
  },
  {
   "cell_type": "code",
   "execution_count": 96,
   "metadata": {},
   "outputs": [
    {
     "name": "stdout",
     "output_type": "stream",
     "text": [
      "1.285472e-07\n"
     ]
    }
   ],
   "source": [
    "print(2.78e11*0.68**2*(1e-6)**3)"
   ]
  },
  {
   "cell_type": "code",
   "execution_count": 97,
   "metadata": {},
   "outputs": [
    {
     "name": "stdout",
     "output_type": "stream",
     "text": [
      "0.037463976945244955\n"
     ]
    }
   ],
   "source": [
    "print(0.13/3.47)"
   ]
  },
  {
   "cell_type": "code",
   "execution_count": 98,
   "metadata": {},
   "outputs": [
    {
     "name": "stdout",
     "output_type": "stream",
     "text": [
      "1.7257996330413934\n"
     ]
    }
   ],
   "source": [
    "print(1/(f_NFW(1)*3))"
   ]
  },
  {
   "cell_type": "code",
   "execution_count": 99,
   "metadata": {},
   "outputs": [
    {
     "name": "stdout",
     "output_type": "stream",
     "text": [
      "1.0317669306993238e-10\n"
     ]
    }
   ],
   "source": [
    "rho_AMC = 1.0\n",
    "R_AMC = 1.0\n",
    "r_s = R_AMC/c\n",
    "\n",
    "x2_avg = 0.13*R_AMC**2\n",
    "\n",
    "M_AMC = 4*np.pi*rho_AMC*(r_s)**3*f_NFW(c)\n",
    "print(M_AMC)\n",
    "\n",
    "psi0 = G_N*M_AMC/R_AMC"
   ]
  },
  {
   "cell_type": "markdown",
   "metadata": {},
   "source": [
    "### Quick summary of properties:"
   ]
  },
  {
   "cell_type": "markdown",
   "metadata": {},
   "source": [
    "$$E_\\mathrm{bind} \\equiv \\alpha \\frac{G_N M_\\mathrm{AMC}^2}{R_\\mathrm{AMC}}$$\n",
    "\n",
    "$$\\langle R^2 \\rangle = \\kappa R_\\mathrm{AMC}^2$$\n",
    "\n",
    "**Power-law**: $\\alpha = 3/2$, $\\kappa = 3/11$\n",
    "\n",
    "**NFW**: $\\alpha = 3.46$, $\\kappa = 0.133$"
   ]
  },
  {
   "cell_type": "markdown",
   "metadata": {},
   "source": [
    "### Comparison of density profiles"
   ]
  },
  {
   "cell_type": "markdown",
   "metadata": {},
   "source": [
    "**Power law** density profile:\n",
    "\n",
    "$$\\rho_\\mathrm{PL}(r) = A/r^{9/4}$$\n",
    "\n",
    "truncated at\n",
    "\n",
    "$$R_\\mathrm{AMC} = \\left(\\frac{3 M_\\mathrm{AMC}}{4 \\pi \\rho_\\mathrm{AMC}}\\right)^{1/3}$$\n",
    "\n",
    "meaning that the average density inside the minicluster is fixed equal to $\\rho_\\mathrm{AMC}$. The enclosed mass is given by:\n",
    "\n",
    "$$M_\\mathrm{enc}(r) = \\frac{16\\pi}{3} A r^{3/4} = M_\\mathrm{AMC} \\left(\\frac{r}{R_\\mathrm{AMC}}\\right)^{3/4}$$\n",
    "\n",
    "Or, put another way:\n",
    "\n",
    "$$ \\rho_\\mathrm{PL}(r) = \\frac{3 M_\\mathrm{AMC}}{16 \\pi R_\\mathrm{AMC}{}^3} \\left(\\frac{R_\\mathrm{AMC}}{r}\\right)^{9/4} = \\frac{\\rho_\\mathrm{AMC}}{4} \\left(\\frac{R_\\mathrm{AMC}}{r}\\right)^{9/4}$$\n",
    "\n",
    "**NFW** density profile:\n",
    "\n",
    "$$ \\rho_\\mathrm{NFW}(x) = \\frac{\\rho_s}{x(1+x)^2} \\equiv \\rho_s \\omega(x)$$\n",
    "\n",
    "where $x = r/r_s$ and the profile is truncated at $R_\\mathrm{AMC} = c r_s$, with $c = 100$. We make the identification $\\rho_s = \\rho_\\mathrm{AMC}$ and \n",
    "\n",
    "$$r_s = \\left(\\frac{M_\\mathrm{AMC}}{4 \\pi \\rho_\\mathrm{AMC} f_\\mathrm{NFW}(c)}\\right)^{1/3}$$\n"
   ]
  },
  {
   "cell_type": "markdown",
   "metadata": {},
   "source": [
    "### NFW disruption"
   ]
  },
  {
   "cell_type": "markdown",
   "metadata": {},
   "source": [
    "\n",
    "Potential:\n",
    "\n",
    "$$\\psi(r) = 4\\pi G \\rho_s r_s^2 \\frac{\\log(1 + x)}{x} = \\frac{G_N M_\\mathrm{AMC}}{R_\\mathrm{AMC}} \\frac{c}{f(c)} \\frac{\\log(1 + x)}{x}$$"
   ]
  },
  {
   "cell_type": "markdown",
   "metadata": {},
   "source": [
    "**Binding energy:**"
   ]
  },
  {
   "cell_type": "code",
   "execution_count": 100,
   "metadata": {},
   "outputs": [],
   "source": [
    "def psi_NFW(r):\n",
    "    x = r/r_s\n",
    "    return (G_N*M_AMC/R_AMC)*(c/f_NFW(c))*np.log(1+x)/x\n",
    "\n",
    "def psi(r):\n",
    "    psi_outer = G_N*M_AMC/np.clip(r, R_AMC, 1e30)\n",
    "    return np.clip(psi_NFW(r) - psi_NFW(R_AMC), 0, 1e30) + psi_outer\n",
    "\n",
    "@np.vectorize\n",
    "def rho(r):\n",
    "    x = r/r_s\n",
    "    #if (x > c):\n",
    "    #    return 0\n",
    "    #else:\n",
    "    return rho_AMC/(x*(1+x)**2)"
   ]
  },
  {
   "cell_type": "code",
   "execution_count": 101,
   "metadata": {},
   "outputs": [
    {
     "name": "stdout",
     "output_type": "stream",
     "text": [
      "9.948581796785089e-11\n"
     ]
    }
   ],
   "source": [
    "print(quad(lambda x: rho(x)*4*np.pi*x**2, 0, 1)[0])"
   ]
  },
  {
   "cell_type": "code",
   "execution_count": null,
   "metadata": {},
   "outputs": [],
   "source": []
  },
  {
   "cell_type": "code",
   "execution_count": 105,
   "metadata": {},
   "outputs": [
    {
     "name": "stdout",
     "output_type": "stream",
     "text": [
      "0.0631313588528505\n"
     ]
    }
   ],
   "source": [
    "r2_integ = lambda x: x**2*rho(x)*4*np.pi*x**2\n",
    "x2_avg = quad(r2_integ, 0, 1)[0]/quad(lambda x: rho(x)*4*np.pi*x**2, 0, 1)[0]\n",
    "print(x2_avg)"
   ]
  },
  {
   "cell_type": "code",
   "execution_count": 107,
   "metadata": {},
   "outputs": [],
   "source": [
    "R_list = np.geomspace(1e-9, 1e3, 1000)*R_AMC\n",
    "rho_list = rho(R_list)\n",
    "psi_list = psi(R_list)"
   ]
  },
  {
   "cell_type": "code",
   "execution_count": 108,
   "metadata": {},
   "outputs": [
    {
     "data": {
      "image/png": "[encoded data removed]",
      "text/plain": [
       "<Figure size 1080x360 with 3 Axes>"
      ]
     },
     "metadata": {},
     "output_type": "display_data"
    }
   ],
   "source": [
    "fig, axes = plt.subplots(nrows=1, ncols=3, figsize=(15, 5))\n",
    "\n",
    "axes[0].loglog(R_list, rho_list)\n",
    "axes[0].set_xlabel(r\"$R/R_\\mathrm{AMC}$\")\n",
    "axes[0].set_ylabel(r\"$\\rho/\\rho_\\mathrm{AMC}$\")\n",
    "\n",
    "axes[1].loglog(R_list, psi_list/psi0)\n",
    "axes[1].loglog(R_list, (G_N*M_AMC/R_list)/psi0, 'k--')\n",
    "axes[1].set_xlabel(r\"$R/R_\\mathrm{AMC}$\")\n",
    "axes[1].set_ylabel(r\"$\\psi/\\psi_0$\")\n",
    "\n",
    "axes[2].loglog(psi_list, rho_list)\n",
    "axes[2].set_xlabel(r\"$\\psi/\\psi_0$\")\n",
    "axes[2].set_ylabel(r\"$\\rho/\\rho_\\mathrm{AMC}$\")\n",
    "\n",
    "plt.tight_layout()\n",
    "\n",
    "plt.show()"
   ]
  },
  {
   "cell_type": "markdown",
   "metadata": {},
   "source": [
    "#### Generating the distribution function"
   ]
  },
  {
   "cell_type": "code",
   "execution_count": 109,
   "metadata": {},
   "outputs": [],
   "source": [
    "rho_of_psi = interpolate.InterpolatedUnivariateSpline(psi_list[::-1], rho_list[::-1])\n",
    "d2rho = rho_of_psi.derivative(n=2)"
   ]
  },
  {
   "cell_type": "code",
   "execution_count": 110,
   "metadata": {},
   "outputs": [],
   "source": [
    "def f(eps):\n",
    "    integ = lambda x: d2rho(x)/(np.sqrt(eps - x))\n",
    "    result = quad(integ, 0, eps, epsrel=1e-6)[0]\n",
    "    return result/(np.sqrt(8)*np.pi**2) "
   ]
  },
  {
   "cell_type": "code",
   "execution_count": 111,
   "metadata": {},
   "outputs": [],
   "source": [
    "eps_list = psi(R_list)"
   ]
  },
  {
   "cell_type": "code",
   "execution_count": 112,
   "metadata": {},
   "outputs": [
    {
     "name": "stderr",
     "output_type": "stream",
     "text": [
      "  0%|          | 0/1000 [00:00<?, ?it/s]/Users/bradkav/anaconda3/lib/python3.6/site-packages/ipykernel_launcher.py:3: IntegrationWarning: The maximum number of subdivisions (50) has been achieved.\n",
      "  If increasing the limit yields no improvement it is advised to analyze \n",
      "  the integrand in order to determine the difficulties.  If the position of a \n",
      "  local difficulty can be determined (singularity, discontinuity) one will \n",
      "  probably gain from splitting up the interval and calling the integrator \n",
      "  on the subranges.  Perhaps a special-purpose integrator should be used.\n",
      "  This is separate from the ipykernel package so we can avoid doing imports until\n",
      "  6%|▌         | 58/1000 [00:01<00:31, 30.19it/s]/Users/bradkav/anaconda3/lib/python3.6/site-packages/ipykernel_launcher.py:3: IntegrationWarning: The algorithm does not converge.  Roundoff error is detected\n",
      "  in the extrapolation table.  It is assumed that the requested tolerance\n",
      "  cannot be achieved, and that the returned result (if full_output = 1) is \n",
      "  the best which can be obtained.\n",
      "  This is separate from the ipykernel package so we can avoid doing imports until\n",
      " 14%|█▍        | 138/1000 [00:04<00:26, 32.81it/s]/Users/bradkav/anaconda3/lib/python3.6/site-packages/ipykernel_launcher.py:3: IntegrationWarning: The occurrence of roundoff error is detected, which prevents \n",
      "  the requested tolerance from being achieved.  The error may be \n",
      "  underestimated.\n",
      "  This is separate from the ipykernel package so we can avoid doing imports until\n",
      "100%|██████████| 1000/1000 [00:24<00:00, 40.69it/s]\n"
     ]
    }
   ],
   "source": [
    "f_list = 0.0*eps_list\n",
    "for i, eps in enumerate(tqdm(eps_list)):\n",
    "    f_list[i] = f(eps)"
   ]
  },
  {
   "cell_type": "code",
   "execution_count": 113,
   "metadata": {},
   "outputs": [],
   "source": [
    "f_interp_NFW = interpolate.interp1d(eps_list, f_list, bounds_error=False, fill_value = 0.0)"
   ]
  },
  {
   "cell_type": "code",
   "execution_count": 114,
   "metadata": {},
   "outputs": [
    {
     "data": {
      "image/png": "[encoded data removed]",
      "text/plain": [
       "<Figure size 432x288 with 1 Axes>"
      ]
     },
     "metadata": {},
     "output_type": "display_data"
    }
   ],
   "source": [
    "plt.figure()\n",
    "\n",
    "plt.loglog(eps_list/psi0, f_list)\n",
    "\n",
    "plt.xlabel(r\"$\\mathcal{E}/\\psi_0$\")\n",
    "plt.ylabel(r\"$f(\\mathcal{E})/(\\rho_\\mathrm{AMC}\\psi_0{}^{-3/2})$\")\n",
    "\n",
    "plt.show()"
   ]
  },
  {
   "cell_type": "code",
   "execution_count": 115,
   "metadata": {},
   "outputs": [],
   "source": [
    "def v_max(r):\n",
    "    return np.sqrt(2*psi(r))\n",
    "\n",
    "def get_density(r):\n",
    "    v_max = np.sqrt(2*psi(r))\n",
    "    v_list = np.linspace(0, v_max, 100)\n",
    "    f_list = f_interp_NFW(psi(r)-0.5*v_list**2)\n",
    "    return 4*np.pi*np.trapz(v_list**2*f_list, v_list)"
   ]
  },
  {
   "cell_type": "code",
   "execution_count": 116,
   "metadata": {},
   "outputs": [
    {
     "name": "stderr",
     "output_type": "stream",
     "text": [
      "100%|██████████| 1000/1000 [00:00<00:00, 4758.51it/s]\n"
     ]
    }
   ],
   "source": [
    "r_check = np.geomspace(1e-5, 1e3, 1000)\n",
    "dens_list = 0.0*r_check\n",
    "\n",
    "for i, r in enumerate(tqdm(r_check)):\n",
    "    dens_list[i] = get_density(r)"
   ]
  },
  {
   "cell_type": "code",
   "execution_count": 117,
   "metadata": {},
   "outputs": [
    {
     "data": {
      "image/png": "[encoded data removed]",
      "text/plain": [
       "<Figure size 432x288 with 1 Axes>"
      ]
     },
     "metadata": {},
     "output_type": "display_data"
    }
   ],
   "source": [
    "plt.figure()\n",
    "\n",
    "plt.loglog(r_check, rho(r_check), linestyle='--', color='grey')\n",
    "plt.loglog(r_check, dens_list)\n",
    "#plt.xlim(0, 10)\n",
    "plt.xlabel(r\"$R/R_\\mathrm{AMC}$\")\n",
    "plt.ylabel(r\"$\\rho/\\rho_\\mathrm{AMC}$\")\n",
    "plt.show()"
   ]
  },
  {
   "cell_type": "markdown",
   "metadata": {},
   "source": [
    "#### Checking the AMC properties"
   ]
  },
  {
   "cell_type": "markdown",
   "metadata": {},
   "source": [
    "**Total Mass**"
   ]
  },
  {
   "cell_type": "code",
   "execution_count": 118,
   "metadata": {},
   "outputs": [],
   "source": [
    "def I_nocut(x):\n",
    "    integ = lambda eps: np.sqrt(2*(psi(x) - eps))*f_interp_NFW(eps)\n",
    "    return quad(integ, 0,  psi(x), epsrel=1e-4)[0]\n",
    "\n",
    "def calcMass():\n",
    "    x_range = np.geomspace(1e-6, 1, 100)\n",
    "    I_integ = 0.0*x_range\n",
    "    for j, x in enumerate(x_range):\n",
    "        I_integ[j] = I_nocut(x)\n",
    "    return 16*np.pi**2*np.trapz(I_integ*x_range**2, x_range)"
   ]
  },
  {
   "cell_type": "code",
   "execution_count": 119,
   "metadata": {},
   "outputs": [
    {
     "name": "stderr",
     "output_type": "stream",
     "text": [
      "/Users/bradkav/anaconda3/lib/python3.6/site-packages/ipykernel_launcher.py:3: IntegrationWarning: The maximum number of subdivisions (50) has been achieved.\n",
      "  If increasing the limit yields no improvement it is advised to analyze \n",
      "  the integrand in order to determine the difficulties.  If the position of a \n",
      "  local difficulty can be determined (singularity, discontinuity) one will \n",
      "  probably gain from splitting up the interval and calling the integrator \n",
      "  on the subranges.  Perhaps a special-purpose integrator should be used.\n",
      "  This is separate from the ipykernel package so we can avoid doing imports until\n",
      "/Users/bradkav/anaconda3/lib/python3.6/site-packages/ipykernel_launcher.py:3: IntegrationWarning: The occurrence of roundoff error is detected, which prevents \n",
      "  the requested tolerance from being achieved.  The error may be \n",
      "  underestimated.\n",
      "  This is separate from the ipykernel package so we can avoid doing imports until\n"
     ]
    },
    {
     "name": "stdout",
     "output_type": "stream",
     "text": [
      "1.00279685092751\n"
     ]
    }
   ],
   "source": [
    "M_total = calcMass()\n",
    "print(M_total/M_AMC)"
   ]
  },
  {
   "cell_type": "markdown",
   "metadata": {},
   "source": [
    "**Kinetic Energy**"
   ]
  },
  {
   "cell_type": "code",
   "execution_count": 120,
   "metadata": {},
   "outputs": [],
   "source": [
    "def I_kin(x):\n",
    "    integ = lambda eps: 0.5*(np.sqrt(2*(psi(x) - eps)))**3*f_interp_NFW(eps)\n",
    "    return quad(integ, 0, psi(x), epsrel=1e-4)[0]\n",
    "\n",
    "def calcEkin():\n",
    "    x_range = np.geomspace(1e-6, 1, 100)\n",
    "    I_integ = 0.0*x_range\n",
    "    for j, x in enumerate(x_range):\n",
    "        I_integ[j] = I_kin(x)\n",
    "    return 16*np.pi**2*np.trapz(I_integ*x_range**2, x_range)"
   ]
  },
  {
   "cell_type": "code",
   "execution_count": 121,
   "metadata": {},
   "outputs": [
    {
     "name": "stdout",
     "output_type": "stream",
     "text": [
      "kappa =  74.31746927682137\n"
     ]
    }
   ],
   "source": [
    "E_kin = calcEkin()\n",
    "kappa = 2*E_kin/(G_N*M_AMC**2/R_AMC)\n",
    "print(\"kappa = \", kappa)"
   ]
  },
  {
   "cell_type": "markdown",
   "metadata": {},
   "source": [
    "**Potential Energy**"
   ]
  },
  {
   "cell_type": "code",
   "execution_count": 122,
   "metadata": {},
   "outputs": [],
   "source": [
    "#Note the factor of 1/2 to prevent double-counting.\n",
    "def I_pot(x):\n",
    "    integ = lambda eps: 0.5*psi(x)*np.sqrt(2*(psi(x) - eps))*f_interp_NFW(eps)\n",
    "    return quad(integ, 0, psi(x), epsrel=1e-6)[0]\n",
    "\n",
    "def calcEpot():\n",
    "    x_range = np.geomspace(1e-6, 1, 100)\n",
    "    I_integ = 0.0*x_range\n",
    "    for j, x in enumerate(x_range):\n",
    "        I_integ[j] = I_pot(x)\n",
    "    return 16*np.pi**2*np.trapz(I_integ*x_range**2, x_range)"
   ]
  },
  {
   "cell_type": "code",
   "execution_count": 123,
   "metadata": {},
   "outputs": [
    {
     "name": "stdout",
     "output_type": "stream",
     "text": [
      "beta =  74.29097092031033\n"
     ]
    }
   ],
   "source": [
    "E_bind = calcEpot()\n",
    "beta = E_bind/(G_N*M_AMC**2/R_AMC)\n",
    "print(\"beta = \", beta)"
   ]
  },
  {
   "cell_type": "code",
   "execution_count": 124,
   "metadata": {},
   "outputs": [
    {
     "name": "stdout",
     "output_type": "stream",
     "text": [
      "-37.132236281899644\n"
     ]
    }
   ],
   "source": [
    "E_total = E_kin - E_bind\n",
    "print(E_total/(G_N*M_AMC**2/R_AMC))"
   ]
  },
  {
   "cell_type": "markdown",
   "metadata": {},
   "source": [
    "#### Mass Loss"
   ]
  },
  {
   "cell_type": "markdown",
   "metadata": {},
   "source": [
    "The total mass is then:\n",
    "\n",
    "$$ M(< \\Delta \\eta) = 16\\pi^2 \\rho_\\mathrm{AMC}  R_\\mathrm{AMC}^3 \\int_{0}^{1} x^2 I(y, \\Delta \\eta)\\,\\mathrm{d}y$$\n",
    "\n",
    "Although actually, note that $\\Delta \\mathcal{E} = (\\Delta E/M) \\times r^2/\\langle r^2 \\rangle$"
   ]
  },
  {
   "cell_type": "code",
   "execution_count": 125,
   "metadata": {},
   "outputs": [],
   "source": [
    "def I_loss(x, delta_eps):\n",
    "    integ = lambda eps: np.sqrt(2*(psi(x) - eps))*f_interp_NFW(eps)\n",
    "    return quad(integ, 0, np.minimum(delta_eps, psi(x)), epsrel=1e-4)[0]\n",
    "\n",
    "def I_remain(x, delta_eps):\n",
    "    if (delta_eps >= psi(x)):\n",
    "        return 0\n",
    "    else:\n",
    "        integ = lambda eps: np.sqrt(2*np.clip(psi(x) - eps, 0, 1e30))*f_interp_NFW(eps)\n",
    "        #eps_range = np.sort(psi(x) - np.geomspace(1e-10, psi(x) - delta_eps, 100))\n",
    "        #print(eps_range/psi(x))\n",
    "        eps_range = psi(x)*np.sort(1 - np.geomspace(1e-9, 1 - delta_eps/psi(x), 200))\n",
    "        eps_range = np.sort(np.append(eps_range, np.linspace(delta_eps*1.0001, psi(x)), 200))\n",
    "        #eps_range = np.linspace(delta_eps, psi(x), 1000)\n",
    "        #print(eps_range)#,integ(eps_range))\n",
    "        #print(psi(x) - eps_range)\n",
    "        return np.trapz(integ(eps_range), eps_range)\n",
    "        \n",
    "    #else:\n",
    "    #    i\n",
    "    #    return quad(integ, delta_eps, psi(x), epsrel=1e-4)[0]\n",
    "\n",
    "def I_remain_corr(x, delta_eps, psi_fun):\n",
    "    integ = lambda eps: np.sqrt(2*(psi(x) - eps))*f_interp_NFW(eps)\n",
    "    return quad(integ, np.minimum(delta_eps, psi_fun(x)), psi_fun(x), epsrel=1e-4)[0]\n",
    "\n",
    "def calcMassLoss(delta_eps):\n",
    "    x_range = np.geomspace(1e-6, 1, 100)\n",
    "    I_integ = 0.0*x_range\n",
    "    for j, x in enumerate(x_range):\n",
    "        I_integ[j] = I_loss(x, delta_eps*x**2/x2_avg)\n",
    "    return 16*np.pi**2*np.trapz(I_integ*x_range**2, x_range)"
   ]
  },
  {
   "cell_type": "code",
   "execution_count": 126,
   "metadata": {},
   "outputs": [],
   "source": [
    "deltaE_list = np.geomspace(1e-6, 1e4, 200)*E_bind"
   ]
  },
  {
   "cell_type": "code",
   "execution_count": 127,
   "metadata": {},
   "outputs": [
    {
     "name": "stderr",
     "output_type": "stream",
     "text": [
      "100%|██████████| 200/200 [00:24<00:00,  8.27it/s]\n"
     ]
    }
   ],
   "source": [
    "deltaM_list = 0.0*deltaE_list\n",
    "\n",
    "for i, deltaE in enumerate(tqdm(deltaE_list)):\n",
    "    deltaM_list[i] = calcMassLoss(deltaE/M_AMC)"
   ]
  },
  {
   "cell_type": "code",
   "execution_count": 128,
   "metadata": {},
   "outputs": [
    {
     "data": {
      "image/png": "[encoded data removed]",
      "text/plain": [
       "<Figure size 432x288 with 1 Axes>"
      ]
     },
     "metadata": {},
     "output_type": "display_data"
    }
   ],
   "source": [
    "plt.figure()\n",
    "plt.loglog(deltaE_list/E_bind, deltaM_list/M_AMC)\n",
    "\n",
    "plt.xlim(1e-5, 1e4)\n",
    "plt.ylim(1e-6, 2)\n",
    "\n",
    "plt.xlabel(r\"$\\Delta E/E_\\mathrm{bind}$\")\n",
    "plt.ylabel(r\"$\\Delta M/M_\\mathrm{AMC}$\")\n",
    "\n",
    "plt.axhline(1.0, linestyle='--', color='grey')\n",
    "plt.show()"
   ]
  },
  {
   "cell_type": "markdown",
   "metadata": {},
   "source": [
    "#### Energy Ejection and Remaining"
   ]
  },
  {
   "cell_type": "code",
   "execution_count": 129,
   "metadata": {},
   "outputs": [],
   "source": [
    "def calcEnergyEjected(delta_eps):\n",
    "    x_range = np.geomspace(1e-6, 1, 100)\n",
    "    I_integ = 0.0*x_range\n",
    "    for j, x in enumerate(x_range):\n",
    "        I_integ[j] = I_loss(x, delta_eps*x**2/x2_avg)\n",
    "    return 16*np.pi**2*np.trapz((delta_eps*x_range**2/x2_avg)*I_integ*x_range**2, x_range)"
   ]
  },
  {
   "cell_type": "code",
   "execution_count": 130,
   "metadata": {},
   "outputs": [
    {
     "name": "stderr",
     "output_type": "stream",
     "text": [
      "100%|██████████| 200/200 [00:22<00:00,  9.08it/s]\n"
     ]
    }
   ],
   "source": [
    "E_ejec_list = 0.0*deltaE_list\n",
    "for i, deltaE in enumerate(tqdm(deltaE_list)):\n",
    "    E_ejec_list[i] = calcEnergyEjected(deltaE/M_AMC)"
   ]
  },
  {
   "cell_type": "code",
   "execution_count": 131,
   "metadata": {},
   "outputs": [],
   "source": [
    "def calcEnergyRemain(delta_eps):\n",
    "    x_range = np.geomspace(1e-6, 1, 100)\n",
    "    I_integ = 0.0*x_range\n",
    "    for j, x in enumerate(x_range):\n",
    "        I_integ[j] = I_remain(x, delta_eps*x**2/x2_avg)\n",
    "    return 16*np.pi**2*np.trapz((delta_eps*x_range**2/x2_avg)*I_integ*x_range**2, x_range)"
   ]
  },
  {
   "cell_type": "code",
   "execution_count": 132,
   "metadata": {},
   "outputs": [
    {
     "name": "stderr",
     "output_type": "stream",
     "text": [
      "100%|██████████| 200/200 [00:06<00:00, 31.10it/s]\n"
     ]
    }
   ],
   "source": [
    "E_rem_list = 0.0*deltaE_list\n",
    "for i, deltaE in enumerate(tqdm(deltaE_list)):\n",
    "    E_rem_list[i] = calcEnergyRemain(deltaE/M_AMC)"
   ]
  },
  {
   "cell_type": "code",
   "execution_count": 133,
   "metadata": {},
   "outputs": [],
   "source": [
    "f_ej_list = E_ejec_list/deltaE_list\n",
    "f_rem_list = E_rem_list/deltaE_list\n",
    "f_ej_fixed = np.append(f_ej_list[:100], 1-f_rem_list[100:]) #Fix numerical issues when f_ej is close to 0 or 1"
   ]
  },
  {
   "cell_type": "code",
   "execution_count": 134,
   "metadata": {},
   "outputs": [
    {
     "data": {
      "image/png": "[encoded data removed]",
      "text/plain": [
       "<Figure size 432x288 with 1 Axes>"
      ]
     },
     "metadata": {},
     "output_type": "display_data"
    }
   ],
   "source": [
    "plt.figure()\n",
    "\n",
    "plt.loglog(deltaE_list/E_bind, f_ej_list, label=r'$f_\\mathrm{ej}$')\n",
    "plt.loglog(deltaE_list/E_bind, f_rem_list, label=r'$f_\\mathrm{rem}$')\n",
    "plt.xlabel(r\"$\\Delta E/E_\\mathrm{bind}$\")\n",
    "#plt.ylabel(r\"$f_\\mathrm{rem}$\")\n",
    "\n",
    "plt.legend(loc='best')\n",
    "\n",
    "plt.axhline(1.0, linestyle='--', color='grey')\n",
    "\n",
    "plt.show()"
   ]
  },
  {
   "cell_type": "markdown",
   "metadata": {},
   "source": [
    "#### Initial Energy of unbound particles\n",
    "\n",
    "We'll define the 'initial energy of the particles which will eventually be unbound' as:\n",
    "$$E_i^\\mathrm{unbound} = T_i^\\mathrm{unbound} + E_{\\mathrm{bind}, i} - E_{\\mathrm{bind}, f}$$\n",
    "where $T_i^\\mathrm{unbound}$ is the total initial kinetic energy of the particles which will be unbound."
   ]
  },
  {
   "cell_type": "code",
   "execution_count": 135,
   "metadata": {},
   "outputs": [
    {
     "name": "stdout",
     "output_type": "stream",
     "text": [
      "9.80296049406921e-07 9.80429858578784e-07\n"
     ]
    }
   ],
   "source": [
    "print(rho(0.01), 4*np.pi*I_loss(0.01, 1e-5))"
   ]
  },
  {
   "cell_type": "code",
   "execution_count": 136,
   "metadata": {},
   "outputs": [
    {
     "name": "stdout",
     "output_type": "stream",
     "text": [
      "3.3505240139467116e-21\n"
     ]
    }
   ],
   "source": [
    "print(calcFinalEbind(E_bind/M_AMC))"
   ]
  },
  {
   "cell_type": "code",
   "execution_count": 137,
   "metadata": {},
   "outputs": [],
   "source": [
    "def calcFinalEbind(delta_eps):\n",
    "    x_range = np.geomspace(1e-6, 1, 100)\n",
    "    rho_final = 0.0*x_range\n",
    "    #if (delta_eps > 0.1*E_bind):\n",
    "    for j, x in enumerate(x_range):\n",
    "        rho_final[j] = 4*np.pi*I_remain(x, delta_eps*x**2/x2_avg)\n",
    "    #else:\n",
    "    #    for j, x in enumerate(x_range):\n",
    "    #        rho_final[j] = rho(x) - 4*np.pi*I_loss(x, delta_eps*x**2/x2_avg)\n",
    "    \n",
    "    Menc = cumtrapz(4*np.pi*rho_final*x_range**2, x_range, initial=0.0)\n",
    "    return G_N*np.trapz((Menc/x_range)*4*np.pi*rho_final*x_range**2, x_range)"
   ]
  },
  {
   "cell_type": "markdown",
   "metadata": {},
   "source": [
    "Calculating the 'first order' change in binding energy"
   ]
  },
  {
   "cell_type": "code",
   "execution_count": 138,
   "metadata": {},
   "outputs": [],
   "source": [
    "#Note the factor of 1/2 to prevent double-counting.\n",
    "def I_pot_loss(x, delta_eps):\n",
    "    integ = lambda eps: 0.5*psi(x)*np.sqrt(2*(psi(x) - eps))*f_interp_NFW(eps)\n",
    "    return quad(integ, 0, np.minimum(delta_eps, psi(x)), epsrel=1e-4)[0]\n",
    "\n",
    "def calcEpot_loss(delta_eps):\n",
    "    x_range = np.geomspace(1e-6, 1, 100)\n",
    "    I_integ = 0.0*x_range\n",
    "    for j, x in enumerate(x_range):\n",
    "        I_integ[j] = I_pot_loss(x, delta_eps*x**2/x2_avg)\n",
    "    return 16*np.pi**2*np.trapz(I_integ*x_range**2, x_range)"
   ]
  },
  {
   "cell_type": "code",
   "execution_count": 139,
   "metadata": {},
   "outputs": [
    {
     "data": {
      "text/plain": [
       "1.0007420248888992"
      ]
     },
     "execution_count": 139,
     "metadata": {},
     "output_type": "execute_result"
    }
   ],
   "source": [
    "calcFinalEbind(1e-5*E_bind/M_AMC)/E_bind"
   ]
  },
  {
   "cell_type": "code",
   "execution_count": 140,
   "metadata": {},
   "outputs": [
    {
     "name": "stderr",
     "output_type": "stream",
     "text": [
      "100%|██████████| 200/200 [00:42<00:00,  4.75it/s]\n"
     ]
    }
   ],
   "source": [
    "Ebind1_list = 0.0*deltaE_list\n",
    "Ebind2loss_list = 0.0*deltaE_list\n",
    "for i, deltaE in enumerate(tqdm(deltaE_list)):\n",
    "    Ebind1_list[i] = calcFinalEbind(deltaE/M_AMC)\n",
    "    Ebind2loss_list[i] = calcEpot_loss(deltaE/M_AMC)"
   ]
  },
  {
   "cell_type": "code",
   "execution_count": 141,
   "metadata": {},
   "outputs": [
    {
     "name": "stdout",
     "output_type": "stream",
     "text": [
      "3.402276837801098e-21 3.404801502249412e-21\n"
     ]
    }
   ],
   "source": [
    "print(E_bind, Ebind1_list[0])"
   ]
  },
  {
   "cell_type": "markdown",
   "metadata": {},
   "source": [
    "**Need to check the Ebind1_list calculation for small dE**"
   ]
  },
  {
   "cell_type": "code",
   "execution_count": 142,
   "metadata": {},
   "outputs": [
    {
     "data": {
      "image/png": "[encoded data removed]",
      "text/plain": [
       "<Figure size 432x288 with 1 Axes>"
      ]
     },
     "metadata": {},
     "output_type": "display_data"
    }
   ],
   "source": [
    "plt.figure()\n",
    "plt.loglog(deltaE_list/E_bind, np.abs(1-Ebind1_list/E_bind), label=\"Full\")\n",
    "plt.show()"
   ]
  },
  {
   "cell_type": "markdown",
   "metadata": {},
   "source": [
    "The change in binding energy can be very well approximated as:\n",
    "$$ \\Delta E_\\mathrm{bind} = (1 - \\frac{1}{2}\\frac{\\Delta M}{M}) \\times \\int_\\mathrm{removed} \\psi(r) f(r, v)\\,\\mathrm{d}^3 r$$"
   ]
  },
  {
   "cell_type": "code",
   "execution_count": 143,
   "metadata": {},
   "outputs": [
    {
     "data": {
      "image/png": "[encoded data removed]",
      "text/plain": [
       "<Figure size 432x288 with 1 Axes>"
      ]
     },
     "metadata": {},
     "output_type": "display_data"
    }
   ],
   "source": [
    "plt.figure()\n",
    "\n",
    "plt.loglog(deltaE_list/E_bind, 1 - Ebind1_list/E_bind, label=\"Full\")\n",
    "plt.loglog(deltaE_list/E_bind, 2*(1 - 0.5*deltaM_list/M_AMC)*Ebind2loss_list/E_bind, label=\"1st order\")\n",
    "plt.ylim(1e-5, 2)\n",
    "plt.legend()\n",
    "\n",
    "plt.show()"
   ]
  },
  {
   "cell_type": "code",
   "execution_count": 76,
   "metadata": {},
   "outputs": [
    {
     "name": "stderr",
     "output_type": "stream",
     "text": [
      "/Users/bradkav/anaconda3/lib/python3.6/site-packages/ipykernel_launcher.py:3: RuntimeWarning: divide by zero encountered in true_divide\n",
      "  This is separate from the ipykernel package so we can avoid doing imports until\n"
     ]
    },
    {
     "data": {
      "image/png": "[encoded data removed]",
      "text/plain": [
       "<Figure size 432x288 with 1 Axes>"
      ]
     },
     "metadata": {},
     "output_type": "display_data"
    }
   ],
   "source": [
    "plt.figure()\n",
    "\n",
    "plt.loglog(deltaE_list/E_bind,(1-Ebind1_list/E_bind)/(Ebind2loss_list/E_bind))\n",
    "\n",
    "plt.show()"
   ]
  },
  {
   "cell_type": "code",
   "execution_count": 144,
   "metadata": {},
   "outputs": [],
   "source": [
    "def I_kin_loss(x, delta_eps):\n",
    "    integ = lambda eps: 0.5*(np.sqrt(2*(psi(x) - eps)))**3*f_interp_NFW(eps)\n",
    "    return quad(integ, 0, np.minimum(delta_eps, psi(x)), epsrel=1e-4)[0]\n",
    "\n",
    "def calcEunbound_kin(delta_eps):\n",
    "    x_range = np.geomspace(1e-6, 1, 100)*R_AMC\n",
    "    I_integ = 0.0*x_range\n",
    "    for j, x in enumerate(x_range):\n",
    "        I_integ[j] = I_kin_loss(x, delta_eps*x**2/x2_avg)\n",
    "    return 16*np.pi**2*np.trapz(I_integ*x_range**2, x_range)"
   ]
  },
  {
   "cell_type": "code",
   "execution_count": 145,
   "metadata": {},
   "outputs": [],
   "source": [
    "deltaU0 = -calcFinalEbind(0)- (-E_bind)\n",
    "#print(FinalEbind0)\n",
    "def calcEi_unbound(deltaE):\n",
    "    T_i_ub = calcEunbound_kin(deltaE/M_AMC)\n",
    "    deltaU = (-calcFinalEbind(deltaE/M_AMC)) - (-E_bind) - deltaU0\n",
    "    #print(deltaU)\n",
    "    return T_i_ub - (deltaU)"
   ]
  },
  {
   "cell_type": "code",
   "execution_count": 146,
   "metadata": {},
   "outputs": [
    {
     "name": "stderr",
     "output_type": "stream",
     "text": [
      "100%|██████████| 200/200 [00:45<00:00,  4.43it/s]\n"
     ]
    }
   ],
   "source": [
    "Ei_unbound_list = 0.0*deltaE_list\n",
    "for i, deltaE in enumerate(tqdm(deltaE_list)):\n",
    "    Ei_unbound_list[i] = calcEi_unbound(deltaE)"
   ]
  },
  {
   "cell_type": "code",
   "execution_count": 147,
   "metadata": {},
   "outputs": [
    {
     "data": {
      "image/png": "[encoded data removed]",
      "text/plain": [
       "<Figure size 432x288 with 1 Axes>"
      ]
     },
     "metadata": {},
     "output_type": "display_data"
    }
   ],
   "source": [
    "plt.figure()\n",
    "\n",
    "plt.loglog(deltaE_list/E_bind, Ei_unbound_list/E_total)\n",
    "\n",
    "plt.xlabel(r\"$\\Delta E/E_\\mathrm{bind}$\")\n",
    "plt.ylabel(r\"$E_i^\\mathrm{unbound}/E_i^\\mathrm{total}$\")\n",
    "\n",
    "plt.show()"
   ]
  },
  {
   "cell_type": "code",
   "execution_count": 148,
   "metadata": {},
   "outputs": [],
   "source": [
    "E_final_list = E_total + deltaE_list*(1 - f_ej_fixed) -  Ei_unbound_list"
   ]
  },
  {
   "cell_type": "code",
   "execution_count": 149,
   "metadata": {},
   "outputs": [
    {
     "data": {
      "image/png": "[encoded data removed]",
      "text/plain": [
       "<Figure size 432x288 with 1 Axes>"
      ]
     },
     "metadata": {},
     "output_type": "display_data"
    }
   ],
   "source": [
    "plt.figure()\n",
    "\n",
    "plt.semilogx(deltaE_list/E_bind, E_final_list/E_total)\n",
    "\n",
    "plt.xlabel(r\"$\\Delta E/E_\\mathrm{bind}$\")\n",
    "plt.ylabel(r\"$E_f/E_i$\")\n",
    "\n",
    "plt.show()"
   ]
  },
  {
   "cell_type": "markdown",
   "metadata": {},
   "source": [
    "#### Summary plot"
   ]
  },
  {
   "cell_type": "code",
   "execution_count": 150,
   "metadata": {},
   "outputs": [
    {
     "data": {
      "image/png": "[encoded data removed]",
      "text/plain": [
       "<Figure size 432x288 with 1 Axes>"
      ]
     },
     "metadata": {},
     "output_type": "display_data"
    }
   ],
   "source": [
    "plt.figure()\n",
    "\n",
    "plt.loglog(deltaE_list/E_bind, deltaM_list/M_AMC, label=\"$\\Delta M/M_\\mathrm{AMC}$\")\n",
    "\n",
    "plt.loglog(deltaE_list/E_bind, f_ej_fixed, label=\"$f_\\mathrm{ej}$\")\n",
    "\n",
    "plt.loglog(deltaE_list/E_bind, Ei_unbound_list/E_total, label=\"$E_i^\\mathrm{unbound}/E_i^\\mathrm{total}$\")\n",
    "\n",
    "plt.axhline(1.0, linestyle='--', color='grey')\n",
    "\n",
    "plt.xlabel(r\"$\\Delta E/E_\\mathrm{bind}$\")\n",
    "#plt.ylabel(r\"$E_i^\\mathrm{unbound}/E_i^\\mathrm{total}$\")\n",
    "\n",
    "plt.xlim(1e-5, 1e4)\n",
    "plt.ylim(1e-6, 2)\n",
    "\n",
    "plt.legend(loc='best')\n",
    "\n",
    "plt.show()"
   ]
  },
  {
   "cell_type": "code",
   "execution_count": 151,
   "metadata": {},
   "outputs": [],
   "source": [
    "hdrtxt = \"Binding energy = beta*G_N*M_AMC^2/R_AMC\\nColumns: deltaE/Ebind, deltaM/M, f_ej, E_i_unbound/E_i_total\"\n",
    "\n",
    "np.savetxt(\"../data/Perturbations_NFW_c%d.txt\"%(c,), list(zip(deltaE_list/E_bind, deltaM_list/M_AMC, f_ej_fixed, np.clip(Ei_unbound_list/E_total, 0, 1e30))), header=hdrtxt)"
   ]
  },
  {
   "cell_type": "code",
   "execution_count": null,
   "metadata": {},
   "outputs": [],
   "source": []
  },
  {
   "cell_type": "code",
   "execution_count": null,
   "metadata": {},
   "outputs": [],
   "source": []
  }
 ],
 "metadata": {
  "kernelspec": {
   "display_name": "Python 3",
   "language": "python",
   "name": "python3"
  },
  "language_info": {
   "codemirror_mode": {
    "name": "ipython",
    "version": 3
   },
   "file_extension": ".py",
   "mimetype": "text/x-python",
   "name": "python",
   "nbconvert_exporter": "python",
   "pygments_lexer": "ipython3",
   "version": "3.6.4"
  }
 },
 "nbformat": 4,
 "nbformat_minor": 2
}
